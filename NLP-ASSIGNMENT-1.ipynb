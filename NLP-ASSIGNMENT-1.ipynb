{
 "cells": [
  {
   "cell_type": "markdown",
   "id": "737f4b83",
   "metadata": {},
   "source": [
    "## Assignment 1 Solutions: Recommending Similar Movies (5 points)"
   ]
  },
  {
   "cell_type": "markdown",
   "id": "aafa6e03",
   "metadata": {},
   "source": [
    "- In this assignment, you will quantify the similarities between movies using plot summaries from Wikipedia and IMDb. For this, we will calculate Cosine similarity for all pairs of movies using movies data set. The data set includes 100 movies with their titles, genre, plot summaries from Wikipedia and IMDb."
   ]
  },
  {
   "cell_type": "markdown",
   "id": "a9e4df5c",
   "metadata": {},
   "source": [
    "- Instructions on what to do are provided in every code block with numbers.\n",
    "\n",
    "\n",
    "\n"
   ]
  },
  {
   "cell_type": "markdown",
   "id": "856dbbcc",
   "metadata": {},
   "source": [
    "- Do not clear the outputs, you must print out your outputs.\n",
    "\n"
   ]
  },
  {
   "cell_type": "markdown",
   "id": "cef2aecf",
   "metadata": {},
   "source": [
    "- Write your (legal) full name here: Amaris Efthimiou"
   ]
  },
  {
   "cell_type": "markdown",
   "id": "cecdc4cb",
   "metadata": {},
   "source": [
    "## 1. Import Data Set"
   ]
  },
  {
   "cell_type": "code",
   "execution_count": 11,
   "id": "466df4e6",
   "metadata": {},
   "outputs": [
    {
     "name": "stdout",
     "output_type": "stream",
     "text": [
      "Number of movies:  100\n",
      "Index(['rank', 'title', 'genre', 'wiki_plot', 'imdb_plot'], dtype='object')\n",
      "   rank                     title                                    genre  \\\n",
      "0     0             The Godfather                   [u' Crime', u' Drama']   \n",
      "1     1  The Shawshank Redemption                   [u' Crime', u' Drama']   \n",
      "2     2          Schindler's List  [u' Biography', u' Drama', u' History']   \n",
      "3     3               Raging Bull    [u' Biography', u' Drama', u' Sport']   \n",
      "4     4                Casablanca        [u' Drama', u' Romance', u' War']   \n",
      "\n",
      "                                           wiki_plot  \\\n",
      "0  On the day of his only daughter's wedding, Vit...   \n",
      "1  In 1947, banker Andy Dufresne is convicted of ...   \n",
      "2  In 1939, the Germans move Polish Jews into the...   \n",
      "3  In a brief scene in 1964, an aging, overweight...   \n",
      "4  It is early December 1941. American expatriate...   \n",
      "\n",
      "                                           imdb_plot  \n",
      "0  In late summer 1945, guests are gathered for t...  \n",
      "1  In 1947, Andy Dufresne (Tim Robbins), a banker...  \n",
      "2  The relocation of Polish Jews from surrounding...  \n",
      "3  The film opens in 1964, where an older and fat...  \n",
      "4  In the early years of World War II, December 1...  \n",
      "(100, 5)\n"
     ]
    }
   ],
   "source": [
    "import numpy as np\n",
    "import pandas as pd\n",
    "import nltk\n",
    "\n",
    "#(0.5 points)\n",
    "\n",
    "# (1) The data set comes in as a csv file. Import the data file (it is uploaded on Black Board folder).\n",
    "movies_df = pd.read_csv('movies.csv')\n",
    "print(\"Number of movies: \", (len(movies_df)))\n",
    "\n",
    "\n",
    "# (2) check the number of rows and columns, column names, and print out a few rows to see how the data looks like. \n",
    "print (movies_df.columns)\n",
    "print (movies_df.head())\n",
    "print (movies_df.shape)"
   ]
  },
  {
   "cell_type": "markdown",
   "id": "db749c39",
   "metadata": {},
   "source": [
    "## 2. Combine (concatenate) Wikipedia and IMDb plot summaries"
   ]
  },
  {
   "cell_type": "code",
   "execution_count": 12,
   "id": "8ed314a1",
   "metadata": {},
   "outputs": [
    {
     "name": "stdout",
     "output_type": "stream",
     "text": [
      "   rank                     title                                    genre  \\\n",
      "0     0             The Godfather                   [u' Crime', u' Drama']   \n",
      "1     1  The Shawshank Redemption                   [u' Crime', u' Drama']   \n",
      "2     2          Schindler's List  [u' Biography', u' Drama', u' History']   \n",
      "3     3               Raging Bull    [u' Biography', u' Drama', u' Sport']   \n",
      "4     4                Casablanca        [u' Drama', u' Romance', u' War']   \n",
      "\n",
      "                                           wiki_plot  \\\n",
      "0  On the day of his only daughter's wedding, Vit...   \n",
      "1  In 1947, banker Andy Dufresne is convicted of ...   \n",
      "2  In 1939, the Germans move Polish Jews into the...   \n",
      "3  In a brief scene in 1964, an aging, overweight...   \n",
      "4  It is early December 1941. American expatriate...   \n",
      "\n",
      "                                           imdb_plot  \\\n",
      "0  In late summer 1945, guests are gathered for t...   \n",
      "1  In 1947, Andy Dufresne (Tim Robbins), a banker...   \n",
      "2  The relocation of Polish Jews from surrounding...   \n",
      "3  The film opens in 1964, where an older and fat...   \n",
      "4  In the early years of World War II, December 1...   \n",
      "\n",
      "                                                plot  \n",
      "0  On the day of his only daughter's wedding, Vit...  \n",
      "1  In 1947, banker Andy Dufresne is convicted of ...  \n",
      "2  In 1939, the Germans move Polish Jews into the...  \n",
      "3  In a brief scene in 1964, an aging, overweight...  \n",
      "4  It is early December 1941. American expatriate...  \n",
      "8954\n",
      "17923\n",
      "26877\n"
     ]
    }
   ],
   "source": [
    "# (3) Combine wiki_plot and imdb_plot into a single column. (0.5 points)\n",
    "movies_df[\"plot\"] = movies_df[\"wiki_plot\"].astype(str) + movies_df[\"imdb_plot\"].astype(str)\n",
    "print (movies_df.head())\n",
    "# (4) make sure concatenation worked properly. Among many ways to check this, one thing you can do simply is to\n",
    "# check the length of wiki_plot, imdb_plot and compare the length of the combined plot.\n",
    "# The length of the combined plot should be sum of the length of wiki_plot and imdb_plot.\n",
    "# (0.5 points)\n",
    "print (len(movies_df[\"wiki_plot\"][0]))\n",
    "print (len(movies_df[\"imdb_plot\"][0]))\n",
    "print (len(movies_df[\"plot\"][0]))"
   ]
  },
  {
   "cell_type": "markdown",
   "id": "7735d49a",
   "metadata": {},
   "source": [
    "## 3. Tokenization"
   ]
  },
  {
   "cell_type": "code",
   "execution_count": 13,
   "id": "884d4977",
   "metadata": {},
   "outputs": [],
   "source": [
    "# (5) Tokenize the summed plot column. During or before/after the tokenization step, remove punctuations, non-words, stop-words.\n",
    "# You can also work on a few pre-processing steps during the vectorization process.\n",
    "# keep the elements which contain letters only. (0.5 points)\n",
    "from nltk.tokenize import word_tokenize\n",
    "\n",
    "#See Below: While it's possible to perform tokenization and then stemming,\n",
    "#I put those together so that I pass through my data here."
   ]
  },
  {
   "cell_type": "markdown",
   "id": "ebf56dd4",
   "metadata": {},
   "source": [
    "## 4. Stemming"
   ]
  },
  {
   "cell_type": "code",
   "execution_count": 14,
   "id": "ede5de74",
   "metadata": {},
   "outputs": [
    {
     "name": "stdout",
     "output_type": "stream",
     "text": [
      "Index(['rank', 'title', 'genre', 'wiki_plot', 'imdb_plot', 'plot',\n",
      "       'plot_token_stem'],\n",
      "      dtype='object')\n",
      "   rank                     title                                    genre  \\\n",
      "0     0             The Godfather                   [u' Crime', u' Drama']   \n",
      "1     1  The Shawshank Redemption                   [u' Crime', u' Drama']   \n",
      "2     2          Schindler's List  [u' Biography', u' Drama', u' History']   \n",
      "3     3               Raging Bull    [u' Biography', u' Drama', u' Sport']   \n",
      "4     4                Casablanca        [u' Drama', u' Romance', u' War']   \n",
      "\n",
      "                                           wiki_plot  \\\n",
      "0  On the day of his only daughter's wedding, Vit...   \n",
      "1  In 1947, banker Andy Dufresne is convicted of ...   \n",
      "2  In 1939, the Germans move Polish Jews into the...   \n",
      "3  In a brief scene in 1964, an aging, overweight...   \n",
      "4  It is early December 1941. American expatriate...   \n",
      "\n",
      "                                           imdb_plot  \\\n",
      "0  In late summer 1945, guests are gathered for t...   \n",
      "1  In 1947, Andy Dufresne (Tim Robbins), a banker...   \n",
      "2  The relocation of Polish Jews from surrounding...   \n",
      "3  The film opens in 1964, where an older and fat...   \n",
      "4  In the early years of World War II, December 1...   \n",
      "\n",
      "                                                plot  \\\n",
      "0  On the day of his only daughter's wedding, Vit...   \n",
      "1  In 1947, banker Andy Dufresne is convicted of ...   \n",
      "2  In 1939, the Germans move Polish Jews into the...   \n",
      "3  In a brief scene in 1964, an aging, overweight...   \n",
      "4  It is early December 1941. American expatriate...   \n",
      "\n",
      "                                     plot_token_stem  \n",
      "0  [on, the, day, of, his, onli, daughter, 's, we...  \n",
      "1  [in, banker, andi, dufresn, is, convict, of, m...  \n",
      "2  [in, the, german, move, polish, jew, into, the...  \n",
      "3  [in, a, brief, scene, in, an, age, overweight,...  \n",
      "4  [it, is, earli, decemb, american, expatri, ric...  \n",
      "(100, 7)\n"
     ]
    }
   ],
   "source": [
    "#(6) stem the tokenized summed plot column using a Snowball Stemmer.\n",
    "# It is totally up to you whether you use a simple lemmatization or stemmer at this step. (0.5 points)\n",
    "\n",
    "# Import the SnowballStemmer.\n",
    "from nltk.stem.snowball import SnowballStemmer\n",
    "# Create an English language SnowballStemmer object\n",
    "stemmer = SnowballStemmer(\"english\")\n",
    "\n",
    "import re\n",
    "def tokenize_and_stem_together(text):\n",
    "    \n",
    "    # Tokenization.    \n",
    "    tokens = [word for word in nltk.word_tokenize(text)]\n",
    "    \n",
    "    # use Regular Expressions to keep words only.\n",
    "    filtered_tokens = [token for token in tokens if re.search('[a-zA-Z]', token)]\n",
    "    \n",
    "    # Stem the filtered_tokens.\n",
    "    stems = [stemmer.stem(t) for t in filtered_tokens]\n",
    "    \n",
    "    return stems\n",
    "\n",
    "\n",
    "movies_df[\"plot_token_stem\"]=movies_df[\"plot\"].apply(tokenize_and_stem_together)\n",
    "print (movies_df.columns)\n",
    "print (movies_df.head())\n",
    "print (movies_df.shape)"
   ]
  },
  {
   "cell_type": "markdown",
   "id": "3105fad3",
   "metadata": {},
   "source": [
    "## 5. Generate TF-IDF Vectorizer"
   ]
  },
  {
   "cell_type": "code",
   "execution_count": 15,
   "id": "7802ae40",
   "metadata": {},
   "outputs": [],
   "source": [
    "# 1 point\n",
    "\n",
    "#(7)-1 use a tf-idf vectorizer to create TF-IDF vectors. \n",
    "#(7)-2 You can adjust a few parameters within tf-idf Vectorizer object such as removing stopwords, including bigrams \n",
    "# for efficient processing of text.\n",
    "#(7)-3 To filter out some terms that are too frequent and infrequent, you may add parameters such as max_df & min_df \n",
    "# and set the values as 0.8 & 0.2 respectively.\n",
    "\n",
    "from sklearn.feature_extraction.text import TfidfVectorizer\n",
    "\n",
    "tfidf_vectorizer = TfidfVectorizer(max_df=0.8, min_df=0.2, stop_words='english',\n",
    "                                 use_idf=True, ngram_range=(1,2))"
   ]
  },
  {
   "cell_type": "markdown",
   "id": "3f82a478",
   "metadata": {},
   "source": [
    "## 6. Fit_transform TF-IDF Vectorizer"
   ]
  },
  {
   "cell_type": "code",
   "execution_count": 18,
   "id": "9234e3ec",
   "metadata": {},
   "outputs": [
    {
     "name": "stdout",
     "output_type": "stream",
     "text": [
      "Index(['rank', 'title', 'genre', 'wiki_plot', 'imdb_plot', 'plot',\n",
      "       'plot_token_stem', 'plot_token_stem_string'],\n",
      "      dtype='object')\n",
      "   rank                     title                                    genre  \\\n",
      "0     0             The Godfather                   [u' Crime', u' Drama']   \n",
      "1     1  The Shawshank Redemption                   [u' Crime', u' Drama']   \n",
      "2     2          Schindler's List  [u' Biography', u' Drama', u' History']   \n",
      "3     3               Raging Bull    [u' Biography', u' Drama', u' Sport']   \n",
      "4     4                Casablanca        [u' Drama', u' Romance', u' War']   \n",
      "\n",
      "                                           wiki_plot  \\\n",
      "0  On the day of his only daughter's wedding, Vit...   \n",
      "1  In 1947, banker Andy Dufresne is convicted of ...   \n",
      "2  In 1939, the Germans move Polish Jews into the...   \n",
      "3  In a brief scene in 1964, an aging, overweight...   \n",
      "4  It is early December 1941. American expatriate...   \n",
      "\n",
      "                                           imdb_plot  \\\n",
      "0  In late summer 1945, guests are gathered for t...   \n",
      "1  In 1947, Andy Dufresne (Tim Robbins), a banker...   \n",
      "2  The relocation of Polish Jews from surrounding...   \n",
      "3  The film opens in 1964, where an older and fat...   \n",
      "4  In the early years of World War II, December 1...   \n",
      "\n",
      "                                                plot  \\\n",
      "0  On the day of his only daughter's wedding, Vit...   \n",
      "1  In 1947, banker Andy Dufresne is convicted of ...   \n",
      "2  In 1939, the Germans move Polish Jews into the...   \n",
      "3  In a brief scene in 1964, an aging, overweight...   \n",
      "4  It is early December 1941. American expatriate...   \n",
      "\n",
      "                                     plot_token_stem  \\\n",
      "0  [on, the, day, of, his, onli, daughter, 's, we...   \n",
      "1  [in, banker, andi, dufresn, is, convict, of, m...   \n",
      "2  [in, the, german, move, polish, jew, into, the...   \n",
      "3  [in, a, brief, scene, in, an, age, overweight,...   \n",
      "4  [it, is, earli, decemb, american, expatri, ric...   \n",
      "\n",
      "                              plot_token_stem_string  \n",
      "0  on the day of his onli daughter 's wed vito co...  \n",
      "1  in banker andi dufresn is convict of murder hi...  \n",
      "2  in the german move polish jew into the kraków ...  \n",
      "3  in a brief scene in an age overweight italian ...  \n",
      "4  it is earli decemb american expatri rick blain...  \n",
      "(100, 8)\n",
      "(100, 562)\n"
     ]
    }
   ],
   "source": [
    "# (8) Fit and transform the tfidf_vectorizer with the summed plot column for each movie\n",
    "# to create a vector representation of the plot summaries (0.5 points)\n",
    "\n",
    "#Since plot_token_stem column is already in a list format, TfidfVectorizer doesn't run on that column.\n",
    "#To avoid the error, I used a join function to join back all the list elements (tokens) in a string format.\n",
    "movies_df[\"plot_token_stem_string\"] = movies_df[\"plot_token_stem\"].apply(lambda x: \" \".join(x))\n",
    "print (movies_df.columns)\n",
    "print (movies_df.head())\n",
    "print (movies_df.shape)\n",
    "\n",
    "#Then applied vectorization on the STRING FORMATTED column.\n",
    "tfidf_matrix = tfidf_vectorizer.fit_transform([x for x in movies_df[\"plot_token_stem_string\"]])\n",
    "\n",
    "print(tfidf_matrix.shape)"
   ]
  },
  {
   "cell_type": "markdown",
   "id": "50196ee3",
   "metadata": {},
   "source": [
    "## 7. Calculate Similarity Index"
   ]
  },
  {
   "cell_type": "code",
   "execution_count": 19,
   "id": "c5950136",
   "metadata": {},
   "outputs": [
    {
     "name": "stdout",
     "output_type": "stream",
     "text": [
      "[[1.         0.19324956 0.22727177 0.25819769 0.26345827]\n",
      " [0.19324956 1.         0.2543143  0.17559654 0.23020865]\n",
      " [0.22727177 0.2543143  1.         0.18700026 0.28888393]\n",
      " [0.25819769 0.17559654 0.18700026 1.         0.1836903 ]\n",
      " [0.26345827 0.23020865 0.28888393 0.1836903  1.        ]]\n",
      "\n",
      "(100, 100)\n"
     ]
    }
   ],
   "source": [
    "# 1 point\n",
    "\n",
    "# (9)-1\n",
    "# Import cosine_similarity to calculate similarity of movie plots.\n",
    "from sklearn.metrics.pairwise import cosine_similarity\n",
    "\n",
    "# (9)-2 show 2D array matrix.\n",
    "tf_array=tfidf_matrix.toarray()\n",
    "\n",
    "# (9)-3 calculate cos similarity scores for all the combinations.\n",
    "#You should come up with a 100 by 100 array matrix.\n",
    "cosine_sim=cosine_similarity(tf_array,tf_array)\n",
    "print (cosine_sim[:5,:5])\n",
    "print ()\n",
    "print (cosine_sim.shape)"
   ]
  },
  {
   "cell_type": "markdown",
   "id": "13b29c85",
   "metadata": {},
   "source": [
    "## 8. Build a Small Recommendation Algorithm based on Similarity Score"
   ]
  },
  {
   "cell_type": "code",
   "execution_count": 20,
   "id": "9862cb13",
   "metadata": {},
   "outputs": [
    {
     "name": "stdout",
     "output_type": "stream",
     "text": [
      "title\n",
      "The Godfather                0\n",
      "The Shawshank Redemption     1\n",
      "Schindler's List             2\n",
      "Raging Bull                  3\n",
      "Casablanca                   4\n",
      "                            ..\n",
      "Rebel Without a Cause       95\n",
      "Rear Window                 96\n",
      "The Third Man               97\n",
      "North by Northwest          98\n",
      "Yankee Doodle Dandy         99\n",
      "Length: 100, dtype: int64\n",
      "(100,)\n"
     ]
    }
   ],
   "source": [
    "# create a defined function which gives you top 10 most similar movies (based on their similarity scores) to a focal movie\n",
    "# that you type in. This part has been done for you.\n",
    "\n",
    "# Generate mapping between titles and index.\n",
    "indices = pd.Series(movies_df.index, index=movies_df['title']).drop_duplicates()\n",
    "print (indices)\n",
    "print (indices.shape)\n",
    "\n",
    "def get_recommendations(title, cosine_sim, indices):\n",
    "    # Get index of movie that corresponds to a title.\n",
    "    idx = indices[title]\n",
    "    \n",
    "    # Sort the movies based on the similarity scores\n",
    "    sim_scores = list(enumerate(cosine_sim[idx]))\n",
    "    \n",
    "    #sort the scores from highest to lowest (descending).\n",
    "    sim_scores = sorted(sim_scores, key=lambda x: x[1], reverse=True)\n",
    "    \n",
    "    # Get the scores for 10 most similar movies EXCEPT FOR the 1st highest one (itself).\n",
    "    sim_scores = sim_scores[1:11]\n",
    "    \n",
    "    # Get the movie indices\n",
    "    movie_indices = [i[0] for i in sim_scores]\n",
    "    \n",
    "    # Return the top 10 most similar movies\n",
    "    result=movies_df['title'].iloc[movie_indices]\n",
    "\n",
    "    return result"
   ]
  },
  {
   "cell_type": "markdown",
   "id": "56574705",
   "metadata": {},
   "source": [
    "## 9. What are the similar movies of a focal movie? "
   ]
  },
  {
   "cell_type": "code",
   "execution_count": 23,
   "id": "e3e40130",
   "metadata": {},
   "outputs": [
    {
     "name": "stdout",
     "output_type": "stream",
     "text": [
      "55                                              Platoon\n",
      "62                       All Quiet on the Western Front\n",
      "61                                      The Deer Hunter\n",
      "6                                    Gone with the Wind\n",
      "24                         The Bridge on the River Kwai\n",
      "48                                               Patton\n",
      "79                                                Shane\n",
      "0                                         The Godfather\n",
      "29    Dr. Strangelove or: How I Learned to Stop Worr...\n",
      "38                              Raiders of the Lost Ark\n",
      "Name: title, dtype: object\n"
     ]
    }
   ],
   "source": [
    "# e.g. what are the top 10 similar movies for the movie 'Star Wars'?\n",
    "\n",
    "print(get_recommendations('Saving Private Ryan', cosine_sim, indices))"
   ]
  }
 ],
 "metadata": {
  "kernelspec": {
   "display_name": "Python 3 (ipykernel)",
   "language": "python",
   "name": "python3"
  },
  "language_info": {
   "codemirror_mode": {
    "name": "ipython",
    "version": 3
   },
   "file_extension": ".py",
   "mimetype": "text/x-python",
   "name": "python",
   "nbconvert_exporter": "python",
   "pygments_lexer": "ipython3",
   "version": "3.9.7"
  }
 },
 "nbformat": 4,
 "nbformat_minor": 5
}
